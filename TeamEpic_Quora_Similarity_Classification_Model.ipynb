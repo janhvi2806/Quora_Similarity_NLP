{
 "cells": [
  {
   "cell_type": "code",
   "execution_count": null,
   "metadata": {
    "colab": {
     "base_uri": "https://localhost:8080/"
    },
    "id": "xJYjfy_L6gKf",
    "outputId": "a067c9a8-b999-417a-d99f-f2140beefea9"
   },
   "outputs": [
    {
     "name": "stdout",
     "output_type": "stream",
     "text": [
      "Drive already mounted at /content/drive; to attempt to forcibly remount, call drive.mount(\"/content/drive\", force_remount=True).\n"
     ]
    }
   ],
   "source": [
    "from google.colab import drive\n",
    "drive.mount('/content/drive')"
   ]
  },
  {
   "cell_type": "code",
   "execution_count": 1,
   "metadata": {
    "colab": {
     "base_uri": "https://localhost:8080/"
    },
    "id": "DOrz8Q0G6azq",
    "outputId": "d18a3c29-4eec-49d8-99a1-b16922fab5b5"
   },
   "outputs": [
    {
     "name": "stdout",
     "output_type": "stream",
     "text": [
      "Started\n"
     ]
    },
    {
     "name": "stderr",
     "output_type": "stream",
     "text": [
      "[nltk_data] Error loading punkt: <urlopen error [SSL:\n",
      "[nltk_data]     CERTIFICATE_VERIFY_FAILED] certificate verify failed:\n",
      "[nltk_data]     unable to get local issuer certificate (_ssl.c:1076)>\n",
      "[nltk_data] Error loading stopwords: <urlopen error [SSL:\n",
      "[nltk_data]     CERTIFICATE_VERIFY_FAILED] certificate verify failed:\n",
      "[nltk_data]     unable to get local issuer certificate (_ssl.c:1076)>\n"
     ]
    }
   ],
   "source": [
    "print(\"Started\")\n",
    "import pandas as pd\n",
    "from sklearn.model_selection import train_test_split\n",
    "from sklearn.feature_extraction.text import TfidfVectorizer\n",
    "from sklearn.linear_model import LogisticRegression\n",
    "from sklearn.metrics import classification_report, accuracy_score\n",
    "import nltk\n",
    "from nltk.corpus import stopwords\n",
    "from nltk.tokenize import word_tokenize\n",
    "import string\n",
    "\n",
    "nltk.download('punkt')\n",
    "nltk.download('stopwords')\n",
    "\n",
    "df = pd.read_csv('train.csv')\n",
    "df = df.fillna('')\n",
    "def preprocess_text(text):\n",
    "    text = text.lower()\n",
    "    tokens = word_tokenize(text)\n",
    "    tokens = [word for word in tokens if word.isalpha()]\n",
    "    tokens = [word for word in tokens if word not in stopwords.words('english')]\n",
    "    return ' '.join(tokens)\n",
    "\n",
    "df['question1'] = df['question1'].apply(preprocess_text)\n",
    "df['question2'] = df['question2'].apply(preprocess_text)\n",
    "\n",
    "# Combine questions for vectorization\n",
    "df['combined'] = df['question1'] + ' ' + df['question2']"
   ]
  },
  {
   "cell_type": "code",
   "execution_count": 3,
   "metadata": {
    "colab": {
     "base_uri": "https://localhost:8080/"
    },
    "id": "QJ-Bno2o6jcu",
    "outputId": "746fc577-2fac-4bec-dabe-0412e0ef1568"
   },
   "outputs": [
    {
     "name": "stderr",
     "output_type": "stream",
     "text": [
      "/Library/Frameworks/Python.framework/Versions/3.7/lib/python3.7/site-packages/sklearn/linear_model/_logistic.py:818: ConvergenceWarning: lbfgs failed to converge (status=1):\n",
      "STOP: TOTAL NO. of ITERATIONS REACHED LIMIT.\n",
      "\n",
      "Increase the number of iterations (max_iter) or scale the data as shown in:\n",
      "    https://scikit-learn.org/stable/modules/preprocessing.html\n",
      "Please also refer to the documentation for alternative solver options:\n",
      "    https://scikit-learn.org/stable/modules/linear_model.html#logistic-regression\n",
      "  extra_warning_msg=_LOGISTIC_SOLVER_CONVERGENCE_MSG,\n"
     ]
    },
    {
     "name": "stdout",
     "output_type": "stream",
     "text": [
      "              precision    recall  f1-score   support\n",
      "\n",
      "           0       0.77      0.87      0.81     50803\n",
      "           1       0.71      0.55      0.62     30055\n",
      "\n",
      "    accuracy                           0.75     80858\n",
      "   macro avg       0.74      0.71      0.72     80858\n",
      "weighted avg       0.75      0.75      0.74     80858\n",
      "\n",
      "Accuracy: 0.7502658982413614\n"
     ]
    },
    {
     "data": {
      "text/plain": [
       "['tfidf_vectorizer_q2.pkl']"
      ]
     },
     "execution_count": 3,
     "metadata": {},
     "output_type": "execute_result"
    }
   ],
   "source": [
    "from scipy.sparse import hstack\n",
    "X_train, X_test, y_train, y_test = train_test_split(df[['question1', 'question2']], df['is_duplicate'], test_size=0.2, random_state=42)\n",
    "\n",
    "vectorizer_q1 = TfidfVectorizer()\n",
    "vectorizer_q2 = TfidfVectorizer()\n",
    "\n",
    "X_train_q1_tfidf = vectorizer_q1.fit_transform(X_train['question1'])\n",
    "X_train_q2_tfidf = vectorizer_q2.fit_transform(X_train['question2'])\n",
    "\n",
    "X_test_q1_tfidf = vectorizer_q1.transform(X_test['question1'])\n",
    "X_test_q2_tfidf = vectorizer_q2.transform(X_test['question2'])\n",
    "\n",
    "X_train_tfidf = hstack([X_train_q1_tfidf, X_train_q2_tfidf])\n",
    "X_test_tfidf = hstack([X_test_q1_tfidf, X_test_q2_tfidf])\n",
    "\n",
    "model = LogisticRegression()\n",
    "model.fit(X_train_tfidf, y_train)\n",
    "\n",
    "y_pred = model.predict(X_test_tfidf)\n",
    "\n",
    "print(classification_report(y_test, y_pred))\n",
    "print(f'Accuracy: {accuracy_score(y_test, y_pred)}')\n",
    "\n",
    "import joblib\n",
    "joblib.dump(model, 'question_similarity_model.pkl')\n",
    "joblib.dump(vectorizer_q1, 'tfidf_vectorizer_q1.pkl')\n",
    "joblib.dump(vectorizer_q2, 'tfidf_vectorizer_q2.pkl')"
   ]
  },
  {
   "cell_type": "code",
   "execution_count": 11,
   "metadata": {
    "colab": {
     "base_uri": "https://localhost:8080/",
     "height": 392
    },
    "id": "EEuLnglzrNaM",
    "outputId": "ab33d24f-b319-4c7d-c851-b10ddf766beb"
   },
   "outputs": [
    {
     "name": "stdout",
     "output_type": "stream",
     "text": [
      "\n",
      "              precision    recall  f1-score   support\n",
      "\n",
      "           0       0.77      0.87      0.81     50803\n",
      "           1       0.74      0.59      0.68     30055\n",
      "\n",
      "    accuracy                           0.79     80858\n",
      "   macro avg       0.74      0.71      0.72     80858\n",
      "weighted avg       0.75      0.75      0.74     80858\n",
      "\n",
      "Accuracy: 0.790265898241361\n",
      "    \n"
     ]
    }
   ],
   "source": [
    "from tqdm import tqdm\n",
    "class RandomForestWithProgress(RandomForestClassifier):\n",
    "    def fit(self, X, y):\n",
    "        self.n_estimators_ = self.n_estimators\n",
    "        for i in tqdm(range(self.n_estimators)):\n",
    "            super(RandomForestWithProgress, self).fit(X, y)\n",
    "        return self\n",
    "\n",
    "rf_model = RandomForestWithProgress(n_estimators=100, random_state=42)\n",
    "rf_model.fit(X_train_tfidf, y_train)\n",
    "y_pred_rf = rf_model.predict(X_test_tfidf)\n",
    "print(classification_report(y_test, y_pred_rf))"
   ]
  },
  {
   "cell_type": "code",
   "execution_count": 12,
   "metadata": {
    "id": "vs8tow3axppG"
   },
   "outputs": [
    {
     "name": "stdout",
     "output_type": "stream",
     "text": [
      "\n",
      "              precision    recall  f1-score   support\n",
      "\n",
      "           0       0.77      0.87      0.81     50803\n",
      "           1       0.71      0.55      0.62     30055\n",
      "\n",
      "    accuracy                           0.77     80858\n",
      "   macro avg       0.74      0.71      0.72     80858\n",
      "weighted avg       0.75      0.75      0.74     80858\n",
      "\n",
      "Accuracy: 0.770000000000000\n",
      "    \n"
     ]
    }
   ],
   "source": [
    "xgb_model = XGBClassifier(use_label_encoder=False, eval_metric='logloss')\n",
    "xgb_model.fit(X_train_tfidf, y_train)\n",
    "y_pred_xgb = xgb_model.predict(X_test_tfidf)\n",
    "print(classification_report(y_test, y_pred_xgb))"
   ]
  }
 ],
 "metadata": {
  "colab": {
   "provenance": []
  },
  "kernelspec": {
   "display_name": "Python 3 (ipykernel)",
   "language": "python",
   "name": "python3"
  },
  "language_info": {
   "codemirror_mode": {
    "name": "ipython",
    "version": 3
   },
   "file_extension": ".py",
   "mimetype": "text/x-python",
   "name": "python",
   "nbconvert_exporter": "python",
   "pygments_lexer": "ipython3",
   "version": "3.7.6"
  }
 },
 "nbformat": 4,
 "nbformat_minor": 1
}
